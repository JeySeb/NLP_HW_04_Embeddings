{
 "cells": [
  {
   "cell_type": "code",
   "execution_count": 6,
   "metadata": {},
   "outputs": [],
   "source": [
    "import numpy as np\n",
    "from keras.models import Sequential, Model\n",
    "from keras.layers import Embedding, Reshape, Activation, Input, Dense\n",
    "from keras.preprocessing.text import Tokenizer\n",
    "from keras.preprocessing.sequence import skipgrams\n",
    "from keras.layers import dot\n",
    "import gensim\n",
    "from numpy import dot\n",
    "from numpy.linalg import norm\n",
    "import tensorflow as tf\n",
    "\n",
    "from sklearn.metrics import precision_recall_fscore_support\n",
    "from tensorflow.keras.models import Sequential\n",
    "from tensorflow.keras.layers import Embedding, Flatten, Dense\n",
    "import re\n",
    "import os\n",
    "from keras.preprocessing.text import Tokenizer\n",
    "\n",
    "import random\n",
    "from gensim.models import Word2Vec\n",
    "\n",
    "import numpy as np\n",
    "import matplotlib.pyplot as plt\n",
    "from sklearn.decomposition import PCA\n",
    "\n",
    "from collections import Counter\n",
    "\n",
    "\n",
    "from tensorflow.keras.preprocessing.text import Tokenizer\n",
    "from tensorflow.keras.preprocessing.sequence import pad_sequences\n",
    "from tensorflow.keras.optimizers import Adam\n",
    "\n",
    "\n",
    "\n"
   ]
  },
  {
   "cell_type": "code",
   "execution_count": 7,
   "metadata": {},
   "outputs": [
    {
     "name": "stdout",
     "output_type": "stream",
     "text": [
      "2.9.3\n",
      "\n",
      "[]\n"
     ]
    }
   ],
   "source": [
    "# Check tf version\n",
    "print(tf.__version__)\n",
    "# Check GPU availability\n",
    "print(tf.test.gpu_device_name())\n",
    "print(tf.config.list_physical_devices('GPU'))"
   ]
  },
  {
   "cell_type": "code",
   "execution_count": 8,
   "metadata": {},
   "outputs": [],
   "source": [
    "group_code = \"999\" # TODO Replace "
   ]
  },
  {
   "cell_type": "markdown",
   "metadata": {},
   "source": [
    "# I. PreProcesing"
   ]
  },
  {
   "cell_type": "code",
   "execution_count": 9,
   "metadata": {},
   "outputs": [],
   "source": [
    "\n",
    "\n",
    "def processing_text(texto):\n",
    "    # Paso 1: Remover con un expresión regular carateres especiales (no palabras).\n",
    "    processed_feature = re.sub(r'\\W', ' ', str(texto))\n",
    "    # Paso 2: Remover ocurrencias de caracteres individuales\n",
    "    processed_feature= re.sub(r'\\s+[a-zA-Z]\\s+', ' ', processed_feature)\n",
    "    processed_feature = re.sub(r'\\^[a-zA-Z]\\s+', ' ', processed_feature)\n",
    "    # Paso 3: Remover números (Ocurrencias muy esporádicas en nuestro dataset)\n",
    "    processed_feature = re.sub(r'[0-9]+', ' ', processed_feature)\n",
    "    # Paso 4: Simplificar espacios concecutivos a un único espacio entre palabras\n",
    "    processed_feature = re.sub(' +', ' ', processed_feature)\n",
    "    # Paso 5: Pasar todo el texto a minúsculas\n",
    "    processed_feature = processed_feature.lower()\n",
    "\n",
    "    return processed_feature"
   ]
  },
  {
   "cell_type": "code",
   "execution_count": 10,
   "metadata": {},
   "outputs": [],
   "source": [
    "\n",
    "\n",
    "def generate_corpus_from_folder(folder_path):\n",
    "    all_files = os.listdir(folder_path)\n",
    "    corpus = []\n",
    "\n",
    "    # Process each file\n",
    "    for file in all_files:\n",
    "        if file.endswith(\".txt\"):  # Assuming all your books are in .txt format\n",
    "            with open(os.path.join(folder_path, file), 'r', encoding=\"utf-8\") as book:\n",
    "                lines = book.readlines()\n",
    "                corpus.extend([processing_text(sentence) for sentence in lines])\n",
    "\n",
    "    # Filter the corpus\n",
    "    corpus = [sentence for sentence in corpus if sentence!=' ' and sentence!='' and len(sentence.split())>3]\n",
    "    \n",
    "    return corpus\n",
    "\n",
    "folder_path = \"data\"\n",
    "corpus = generate_corpus_from_folder(folder_path)\n",
    "# Tokenize sentences from the corpus\n",
    "sentences = [sentence.split() for sentence in corpus]\n",
    "\n",
    "tokenizer = Tokenizer()\n",
    "tokenizer.fit_on_texts(corpus)\n",
    "vocab_size = len(tokenizer.word_index) + 1\n",
    "sequences = tokenizer.texts_to_sequences(corpus)"
   ]
  },
  {
   "cell_type": "code",
   "execution_count": 11,
   "metadata": {},
   "outputs": [
    {
     "name": "stdout",
     "output_type": "stream",
     "text": [
      "27000\n",
      "[[1, 115, 101, 735, 3, 2249], [23, 735, 11, 12, 1, 318, 3, 1024, 1538, 5, 1, 540, 455, 2], [146, 93, 1107, 3, 1, 270, 25, 45, 1831, 2, 10, 365, 45, 3635], [2461, 14, 60, 687, 9, 199, 9, 142, 31, 1539, 318, 9, 256, 1, 382], [3, 1, 115, 101, 595, 2342, 10, 23, 735, 31, 2110]]\n"
     ]
    },
    {
     "data": {
      "text/plain": [
       "[' the project gutenberg ebook of dracula ',\n",
       " 'this ebook is for the use of anyone anywhere in the united states and ',\n",
       " 'most other parts of the world at no cost and with almost no restrictions ',\n",
       " 'whatsoever you may copy it give it away or re use it under the terms ',\n",
       " 'of the project gutenberg license included with this ebook or online ']"
      ]
     },
     "execution_count": 11,
     "metadata": {},
     "output_type": "execute_result"
    }
   ],
   "source": [
    "print(vocab_size)\n",
    "print(sequences[:5])\n",
    "corpus[:5]"
   ]
  },
  {
   "cell_type": "markdown",
   "metadata": {},
   "source": [
    "#  II. Training Word2Vec models"
   ]
  },
  {
   "cell_type": "code",
   "execution_count": 12,
   "metadata": {},
   "outputs": [],
   "source": [
    "\n",
    "def train_word2vec_model(sentences, vector_size=100, window=5, min_count=5, workers=4, n_epochs=100):\n",
    "\n",
    "    # Define Word2Vec model\n",
    "    model = Word2Vec(sentences, vector_size=vector_size, window=window, min_count=min_count, workers=workers)\n",
    "    model.train(sentences,total_examples=len(sentences),epochs=n_epochs)\n",
    "    # Save the model\n",
    "    model.save(f\"Books_{vector_size}_{group_code}.model\")\n",
    "    print(f\"Modelo guardado en Books_{vector_size}_{group_code}.model\")\n"
   ]
  },
  {
   "cell_type": "code",
   "execution_count": 13,
   "metadata": {},
   "outputs": [
    {
     "name": "stdout",
     "output_type": "stream",
     "text": [
      "Modelo guardado en Books_100_999.model\n",
      "Modelo guardado en Books_150_999.model\n",
      "Modelo guardado en Books_200_999.model\n"
     ]
    }
   ],
   "source": [
    "dimensionalities = [100, 150, 200]\n",
    "\n",
    "for dim in dimensionalities:\n",
    "    train_word2vec_model(sentences, vector_size=dim, window=5, min_count=5, workers=6, n_epochs=150)"
   ]
  },
  {
   "cell_type": "code",
   "execution_count": 14,
   "metadata": {},
   "outputs": [],
   "source": [
    "def load_word2vec_model(model_dim: int)->Word2Vec:\n",
    "    \"\"\" \n",
    "    Load a Word2Vec model from disk\n",
    "    Args:\n",
    "        model_dim: Dimensionality of the model to load\n",
    "    Ret: \n",
    "        Word2Vec model\n",
    "    \"\"\"\n",
    "    model = Word2Vec.load(f\"Books_{model_dim}_{group_code}.model\")\n",
    "    return model"
   ]
  },
  {
   "cell_type": "code",
   "execution_count": 15,
   "metadata": {},
   "outputs": [],
   "source": [
    "#Load the 150 dimensional model\n",
    "embedding_dim = 100\n",
    "model = load_word2vec_model(embedding_dim)"
   ]
  },
  {
   "cell_type": "code",
   "execution_count": 16,
   "metadata": {},
   "outputs": [
    {
     "data": {
      "text/plain": [
       "[('boar', 0.5007489323616028),\n",
       " ('hind', 0.4931756258010864),\n",
       " ('bull', 0.472952663898468),\n",
       " ('swain', 0.4522803723812103),\n",
       " ('blasts', 0.4522288143634796),\n",
       " ('lily', 0.4396297335624695),\n",
       " ('victor', 0.43796655535697937),\n",
       " ('mountain', 0.43695005774497986),\n",
       " ('hunter', 0.43034735321998596),\n",
       " ('tail', 0.4296087920665741)]"
      ]
     },
     "execution_count": 16,
     "metadata": {},
     "output_type": "execute_result"
    }
   ],
   "source": [
    "similar_words = model.wv.most_similar('lion', topn=10)\n",
    "\n",
    "similar_words"
   ]
  },
  {
   "cell_type": "code",
   "execution_count": 17,
   "metadata": {},
   "outputs": [
    {
     "data": {
      "image/png": "[encoded data removed]",
      "text/plain": [
       "<Figure size 1000x600 with 1 Axes>"
      ]
     },
     "metadata": {},
     "output_type": "display_data"
    }
   ],
   "source": [
    "\n",
    "def plot_similar_words(model, word, topn=10):\n",
    "    # Get the most similar words\n",
    "    similar_words = model.wv.most_similar(word, topn=topn)\n",
    "    \n",
    "    # Get vectors for each word\n",
    "    words = [word] + [item[0] for item in similar_words]\n",
    "    vectors = [model.wv[word]] + [model.wv[item[0]] for item in similar_words]\n",
    "\n",
    "    # Reduce dimensionality\n",
    "    pca = PCA(n_components=2)\n",
    "    pca_result = pca.fit_transform(vectors)\n",
    "\n",
    "    # Plot\n",
    "    plt.figure(figsize=(10, 6))\n",
    "    for i, word_i in enumerate(words):\n",
    "        plt.scatter(pca_result[i, 0], pca_result[i, 1])\n",
    "        plt.text(pca_result[i, 0]+0.02, pca_result[i, 1]+0.02, word_i, fontsize=12)\n",
    "    plt.title(f\"Words similar to '{word}'\")\n",
    "    plt.show()\n",
    "\n",
    "# Use the function\n",
    "plot_similar_words(model, 'queen', topn=10)"
   ]
  },
  {
   "cell_type": "code",
   "execution_count": 18,
   "metadata": {},
   "outputs": [
    {
     "data": {
      "text/plain": [
       "[('rule', 0.4614461064338684),\n",
       " ('hecuba', 0.4312053620815277),\n",
       " ('virgin', 0.401327908039093),\n",
       " ('ransom', 0.3889891505241394),\n",
       " ('peleus', 0.3887903094291687),\n",
       " ('hears', 0.38776227831840515),\n",
       " ('meanest', 0.37363365292549133),\n",
       " ('throes', 0.3733900189399719),\n",
       " ('vilest', 0.36955738067626953),\n",
       " ('deceitful', 0.3683120012283325)]"
      ]
     },
     "execution_count": 18,
     "metadata": {},
     "output_type": "execute_result"
    }
   ],
   "source": [
    "model.wv.most_similar(positive=['woman', 'king'], negative=['man'], topn=10)\n"
   ]
  },
  {
   "cell_type": "code",
   "execution_count": 19,
   "metadata": {},
   "outputs": [
    {
     "name": "stdout",
     "output_type": "stream",
     "text": [
      "0.30058628\n"
     ]
    }
   ],
   "source": [
    "\n",
    "def cosine_similarity_tensor(v1, v2):\n",
    "    normalized_v1 = tf.nn.l2_normalize(v1, axis=-1)\n",
    "    normalized_v2 = tf.nn.l2_normalize(v2, axis=-1)\n",
    "    return tf.reduce_sum(tf.multiply(normalized_v1, normalized_v2))\n",
    "\n",
    "# Convert embeddings to tensors\n",
    "tensor_king = tf.convert_to_tensor(model.wv['king'])\n",
    "tensor_man = tf.convert_to_tensor(model.wv['man'])\n",
    "tensor_queen = tf.convert_to_tensor(model.wv['queen'])\n",
    "tensor_woman = tf.convert_to_tensor(model.wv['woman'])\n",
    "\n",
    "queen_rep_tensor = (tensor_king - tensor_man) + tensor_woman\n",
    "\n",
    "similarity_score_tensor = cosine_similarity_tensor(queen_rep_tensor, tensor_queen)\n",
    "\n",
    "print(similarity_score_tensor.numpy())\n"
   ]
  },
  {
   "cell_type": "markdown",
   "metadata": {},
   "source": [
    "#  III. Classification"
   ]
  },
  {
   "cell_type": "code",
   "execution_count": 20,
   "metadata": {},
   "outputs": [
    {
     "data": {
      "text/plain": [
       "dict_keys(['bram_stoker', 'homer', 'oscar_wild'])"
      ]
     },
     "execution_count": 20,
     "metadata": {},
     "output_type": "execute_result"
    }
   ],
   "source": [
    "# Create books_by_author is a dict with author names as keys and lists of text segments as values\n",
    "# e.g., {\"Author1\": [\"text segment 1\", \"text segment 2\", ...], \"Author2\": [...], ...}\n",
    "\n",
    "books_by_author = {}\n",
    "for file in os.listdir(folder_path):\n",
    "    if file.endswith(\".txt\"):  # Assuming all your books are in .txt format\n",
    "        with open(os.path.join(folder_path, file), 'r', encoding=\"utf-8\") as book:\n",
    "            author = file.split(\"___\")[0]\n",
    "            if author in books_by_author:\n",
    "                books_by_author[author].append(book.read())\n",
    "            else:\n",
    "                books_by_author[author] = [book.read()]\n",
    "\n",
    "books_by_author.keys()"
   ]
  },
  {
   "cell_type": "code",
   "execution_count": 21,
   "metadata": {},
   "outputs": [
    {
     "name": "stdout",
     "output_type": "stream",
     "text": [
      "Training: Counter({'homer': 1360, 'bram_stoker': 1115, 'oscar_wild': 389})\n",
      "Validation: Counter({'homer': 169, 'bram_stoker': 141, 'oscar_wild': 48})\n",
      "Testing: Counter({'homer': 167, 'bram_stoker': 147, 'oscar_wild': 45})\n"
     ]
    }
   ],
   "source": [
    "\n",
    "\n",
    "segments = []\n",
    "labels = []\n",
    "segment_size = 225  \n",
    "# Segment books and create labels\n",
    "for author, books in books_by_author.items():\n",
    "    for book in books:\n",
    "        words = book.split()\n",
    "        for i in range(0, len(words), segment_size):  # Step of 225 to get segments of 150-250 words\n",
    "            segment = ' '.join(words[i:i+segment_size])\n",
    "            segments.append(segment)\n",
    "            labels.append(author)\n",
    "\n",
    "# Shuffle segments and labels together\n",
    "combined = list(zip(segments, labels))\n",
    "random.shuffle(combined)\n",
    "segments, labels = zip(*combined)\n",
    "\n",
    "# Split into train, validation, and test sets\n",
    "train_size = int(0.8 * len(segments))\n",
    "val_size = int(0.1 * len(segments))\n",
    "train_segments, train_labels = segments[:train_size], labels[:train_size]\n",
    "val_segments, val_labels = segments[train_size:train_size+val_size], labels[train_size:train_size+val_size]\n",
    "test_segments, test_labels = segments[train_size+val_size:], labels[train_size+val_size:]\n",
    "\n",
    "# Create summary table\n",
    "print(\"Training:\", Counter(train_labels))\n",
    "print(\"Validation:\", Counter(val_labels))\n",
    "print(\"Testing:\", Counter(test_labels))"
   ]
  },
  {
   "cell_type": "markdown",
   "metadata": {},
   "source": [
    "## Train Keras Models"
   ]
  },
  {
   "cell_type": "markdown",
   "metadata": {},
   "source": [
    "### Architecture 1"
   ]
  },
  {
   "cell_type": "code",
   "execution_count": 22,
   "metadata": {},
   "outputs": [
    {
     "name": "stdout",
     "output_type": "stream",
     "text": [
      "Model: \"sequential\"\n",
      "_________________________________________________________________\n",
      " Layer (type)                Output Shape              Param #   \n",
      "=================================================================\n",
      " embedding (Embedding)       (None, 225, 100)          2700000   \n",
      "                                                                 \n",
      " flatten (Flatten)           (None, 22500)             0         \n",
      "                                                                 \n",
      " dense (Dense)               (None, 128)               2880128   \n",
      "                                                                 \n",
      " dense_1 (Dense)             (None, 3)                 387       \n",
      "                                                                 \n",
      "=================================================================\n",
      "Total params: 5,580,515\n",
      "Trainable params: 5,580,515\n",
      "Non-trainable params: 0\n",
      "_________________________________________________________________\n"
     ]
    }
   ],
   "source": [
    "def generate_model_1(vocab_size: int, embedding_dim: int, segment_size: int)->Sequential:\n",
    "    \"\"\"\n",
    "    Generate a Keras Sequential model with the following architecture:\n",
    "    - Embedding layer with vocab_size, embedding_dim, and input_length=segment_size\n",
    "    - Flatten layer\n",
    "    - Dense layer with 128 units and relu activation\n",
    "    - Dense layer with 3 units and softmax activation\n",
    "    Args:\n",
    "        vocab_size: Size of the vocabulary\n",
    "        embedding_dim: Dimensionality of the embedding\n",
    "        segment_size: Length of the input text segments\n",
    "    Ret:\n",
    "        Keras Sequential model\n",
    "    \"\"\"\n",
    "    model = Sequential([\n",
    "        Embedding(input_dim=vocab_size, output_dim=embedding_dim, input_length=segment_size),\n",
    "        Flatten(),\n",
    "        Dense(128, activation='relu'),\n",
    "        Dense(3, activation='softmax')  # For 3 authors\n",
    "    ])\n",
    "    return model\n",
    "\n",
    "model_1 = generate_model_1(vocab_size, embedding_dim, segment_size)\n",
    "model_1.summary()"
   ]
  },
  {
   "cell_type": "markdown",
   "metadata": {},
   "source": [
    "### Architecture 2\n"
   ]
  },
  {
   "cell_type": "code",
   "execution_count": 23,
   "metadata": {},
   "outputs": [
    {
     "name": "stdout",
     "output_type": "stream",
     "text": [
      "Model: \"sequential_1\"\n",
      "_________________________________________________________________\n",
      " Layer (type)                Output Shape              Param #   \n",
      "=================================================================\n",
      " embedding_1 (Embedding)     (None, 225, 100)          2700000   \n",
      "                                                                 \n",
      " flatten_1 (Flatten)         (None, 22500)             0         \n",
      "                                                                 \n",
      " dense_2 (Dense)             (None, 256)               5760256   \n",
      "                                                                 \n",
      " dense_3 (Dense)             (None, 128)               32896     \n",
      "                                                                 \n",
      " dense_4 (Dense)             (None, 64)                8256      \n",
      "                                                                 \n",
      " dense_5 (Dense)             (None, 3)                 195       \n",
      "                                                                 \n",
      "=================================================================\n",
      "Total params: 8,501,603\n",
      "Trainable params: 8,501,603\n",
      "Non-trainable params: 0\n",
      "_________________________________________________________________\n"
     ]
    }
   ],
   "source": [
    "def generate_model_2(vocab_size: int, embedding_dim: int,  segment_size: int)->Sequential:\n",
    "    \"\"\"\n",
    "    Generate a Sequential model with the following architecture:\n",
    "    - Embedding layer with input_dim=vocab_size, output_dim=embedding_dim, input_length=250\n",
    "    - Flatten layer\n",
    "    - Dense layer with 256 units and relu activation\n",
    "    - Dense layer with 128 units and relu activation\n",
    "    - Dense layer with 64 units and relu activation\n",
    "    - Dense layer with 3 units and softmax activation\n",
    "    Args:\n",
    "        vocab_size: Size of the vocabulary\n",
    "        embedding_dim: Dimensionality of the embedding layer\n",
    "        segment_size: Length of the input text segments\n",
    "    Ret:\n",
    "        Sequential model\n",
    "    \"\"\"\n",
    "    model = Sequential([\n",
    "        Embedding(input_dim=vocab_size, output_dim=embedding_dim, input_length=segment_size),\n",
    "        Flatten(),\n",
    "        Dense(256, activation='relu'),\n",
    "        Dense(128, activation='relu'),\n",
    "        Dense(64, activation='relu'),\n",
    "        Dense(3, activation='softmax')\n",
    "    ])\n",
    "    return model\n",
    "\n",
    "model_2 = generate_model_2(vocab_size, embedding_dim, segment_size)\n",
    "model_2.summary()"
   ]
  },
  {
   "cell_type": "markdown",
   "metadata": {},
   "source": [
    "### Architecture 3"
   ]
  },
  {
   "cell_type": "code",
   "execution_count": null,
   "metadata": {},
   "outputs": [],
   "source": []
  },
  {
   "cell_type": "markdown",
   "metadata": {},
   "source": [
    "## Train each arch with the 3 diferent classes of embeddings dims\n"
   ]
  },
  {
   "cell_type": "code",
   "execution_count": 24,
   "metadata": {},
   "outputs": [],
   "source": [
    "def load_embedding_matrix(word2vec_model, tokenizer, embedding_dim):\n",
    "    \"\"\"\n",
    "    Load the embedding matrix from a Word2Vec model\n",
    "    Args:\n",
    "        word2vec_model: Word2Vec model\n",
    "        tokenizer: Keras tokenizer\n",
    "        embedding_dim: Dimensionality of the embedding\n",
    "    Ret:\n",
    "        Embedding matrix\n",
    "    \"\"\"\n",
    "    vocab_size = len(tokenizer.word_index) + 1\n",
    "    embedding_matrix = np.zeros((vocab_size, embedding_dim))\n",
    "\n",
    "    for word, i in tokenizer.word_index.items():\n",
    "        if word in word2vec_model.wv:\n",
    "            embedding_matrix[i] = word2vec_model.wv[word]\n",
    "\n",
    "    return embedding_matrix\n",
    "\n",
    "# Tokenize and convert text to sequences\n",
    "#tokenizer = Tokenizer()\n",
    "#tokenizer.fit_on_texts(train_segments)\n",
    "label_mapping = {'bram_stoker': 0, 'homer': 1, 'oscar_wild': 2}\n",
    "train_sequences = tokenizer.texts_to_sequences(train_segments)\n",
    "val_sequences = tokenizer.texts_to_sequences(val_segments)\n",
    "test_sequences = tokenizer.texts_to_sequences(test_segments)"
   ]
  },
  {
   "cell_type": "code",
   "execution_count": 25,
   "metadata": {},
   "outputs": [],
   "source": [
    "\n",
    "def generate_trained_model (model_kind:str, embedding_dim: int,\n",
    "                            train_segments: list, train_labels: list, val_segments: list, \n",
    "                             val_labels: list, epochs: int, batch_size: int)->Sequential:\n",
    "    \"\"\"\n",
    "    Generate a trained model\n",
    "    Args:\n",
    "        model_kind: Kind of model to train (1 or 2 or 3)\n",
    "        embedding_dim: Dimensionality of the embedding layer\n",
    "        train_segments: List of training segments\n",
    "        train_labels: List of training labels\n",
    "        val_segments: List of validation segments\n",
    "        val_labels: List of validation labels\n",
    "        epochs: Number of epochs\n",
    "        batch_size: Batch size\n",
    "    Ret:\n",
    "        Trained Keras Sequential model\n",
    "    \"\"\"\n",
    "\n",
    "    embeding = load_word2vec_model(embedding_dim)\n",
    "    segment_size = len(train_segments[0])\n",
    "    model = None\n",
    "    # Define the model\n",
    "    if model_kind == '1':\n",
    "        model = generate_model_1(vocab_size, embedding_dim, segment_size)\n",
    "    elif model_kind == '2':\n",
    "        model = generate_model_2(vocab_size, embedding_dim, segment_size)\n",
    "    else:\n",
    "        #Here model 3\n",
    "        pass\n",
    "        \n",
    "    # Pad sequences\n",
    "    train_padded = pad_sequences(train_sequences, padding='post', maxlen=segment_size)\n",
    "    val_padded = pad_sequences(val_sequences, padding='post', maxlen=segment_size)\n",
    "\n",
    "    label_mapping = {'bram_stoker': 0, 'homer': 1, 'oscar_wild': 2}\n",
    "    train_labels = [label_mapping[label] for label in train_labels]\n",
    "    val_labels = [label_mapping[label] for label in val_labels]\n",
    "\n",
    "\n",
    "    train_padded = np.array(train_padded)\n",
    "    val_padded = np.array(val_padded)\n",
    "    train_labels = np.array(train_labels)\n",
    "    val_labels = np.array(val_labels)\n",
    "\n",
    "    # Load the embedding matrix\n",
    "    embedding_matrix = load_embedding_matrix(embeding, tokenizer, embedding_dim)\n",
    " \n",
    "     # Assign the embedding weights to the model's embedding layer\n",
    "    model.layers[0].set_weights([embedding_matrix])\n",
    "    model.layers[0].trainable = False  # Freeze the embedding layer\n",
    "\n",
    "    # Compile and train the model\n",
    "    model.compile(optimizer=Adam(), loss='sparse_categorical_crossentropy', metrics=['accuracy'])\n",
    "    history = model.fit(train_padded, train_labels, validation_data=(val_padded, val_labels), epochs=epochs, batch_size=batch_size)\n",
    "\n",
    "    return model, history\n"
   ]
  },
  {
   "cell_type": "code",
   "execution_count": 26,
   "metadata": {},
   "outputs": [],
   "source": [
    "def evaluate_model(model, test_sequences, test_labels, label_mapping, segment_size):\n",
    "    \"\"\"\n",
    "    Evaluate a model on a test set\n",
    "    Args:\n",
    "        model: Trained Keras model\n",
    "        test_segments: List of test segments\n",
    "        test_labels: List of test labels\n",
    "        label_mapping: Dictionary mapping labels to integers\n",
    "        segment_size: The length to which sequences should be padded or truncated\n",
    "    Returns:\n",
    "        Accuracy on the test set\n",
    "    \"\"\"\n",
    "    # Pad sequences\n",
    "    test_padded = pad_sequences(test_sequences, padding='post', maxlen=segment_size)\n",
    "    \n",
    "    # Encode labels\n",
    "    test_labels_encoded = [label_mapping[label] for label in test_labels]\n",
    "\n",
    "    test_padded = np.array(test_padded)\n",
    "    test_labels_encoded = np.array(test_labels_encoded)\n",
    "\n",
    "    # Evaluate the model\n",
    "    loss, accuracy = model.evaluate(test_padded, test_labels_encoded)\n",
    "\n",
    "    # Generate confusion matrix\n",
    "    predictions = model.predict(test_padded)\n",
    "    predictions = np.argmax(predictions, axis=1)\n",
    "    confusion_matrix = tf.math.confusion_matrix(test_labels_encoded, predictions)\n",
    "    \n",
    "    # Extract f1, precision, and recall using SKLearn\n",
    "    precision, recall, f1, _ = precision_recall_fscore_support(test_labels_encoded, predictions, average='macro')\n",
    "    print(f\"Precision: {precision:.4f}, Recall: {recall:.4f}, F1: {f1:.4f}\")\n",
    "\n",
    "    return accuracy, precision, recall, f1, confusion_matrix\n"
   ]
  },
  {
   "cell_type": "code",
   "execution_count": 27,
   "metadata": {},
   "outputs": [],
   "source": [
    "def plot_history(history, save_path):\n",
    "    \"\"\"\n",
    "    Create a okit the accuracy and loss of a trained model\n",
    "    and save it to disk\n",
    "    Args:\n",
    "        history: Keras history object\n",
    "    \"\"\"\n",
    "    plt.figure(figsize=(10, 6))\n",
    "    plt.subplot(1, 2, 1)\n",
    "    plt.plot(history.history['accuracy'], label='Train')\n",
    "    plt.plot(history.history['val_accuracy'], label='Validation')\n",
    "    plt.title('Accuracy')\n",
    "    plt.legend()\n",
    "\n",
    "    plt.subplot(1, 2, 2)\n",
    "    plt.plot(history.history['loss'], label='Train')\n",
    "    plt.plot(history.history['val_loss'], label='Validation')\n",
    "    plt.title('Loss')\n",
    "    plt.legend()\n",
    "    plt.savefig(save_path)\n"
   ]
  },
  {
   "cell_type": "markdown",
   "metadata": {},
   "source": [
    "### Generate and test all the different kind of models"
   ]
  },
  {
   "cell_type": "code",
   "execution_count": 32,
   "metadata": {},
   "outputs": [
    {
     "name": "stdout",
     "output_type": "stream",
     "text": [
      "Epoch 1/5\n",
      "90/90 [==============================] - 9s 96ms/step - loss: 0.3999 - accuracy: 0.8474 - val_loss: 0.2295 - val_accuracy: 0.9246\n",
      "Epoch 2/5\n",
      "90/90 [==============================] - 8s 90ms/step - loss: 0.0622 - accuracy: 0.9804 - val_loss: 0.2565 - val_accuracy: 0.9330\n",
      "Epoch 3/5\n",
      "90/90 [==============================] - 8s 91ms/step - loss: 0.0321 - accuracy: 0.9941 - val_loss: 0.3321 - val_accuracy: 0.9330\n",
      "Epoch 4/5\n",
      "90/90 [==============================] - 8s 91ms/step - loss: 0.0377 - accuracy: 0.9979 - val_loss: 0.3113 - val_accuracy: 0.9302\n",
      "Epoch 5/5\n",
      "90/90 [==============================] - 8s 86ms/step - loss: 5.5267e-04 - accuracy: 1.0000 - val_loss: 0.3246 - val_accuracy: 0.9302\n",
      "12/12 [==============================] - 0s 16ms/step - loss: 0.3611 - accuracy: 0.9136\n",
      "12/12 [==============================] - 0s 17ms/step\n",
      "Precision: 0.8720, Recall: 0.8656, F1: 0.8685\n",
      "Test accuracy for model 1 with embedding dimension 100: 0.9136\n",
      "Epoch 1/5\n",
      "90/90 [==============================] - 13s 136ms/step - loss: 0.4021 - accuracy: 0.8415 - val_loss: 0.2530 - val_accuracy: 0.9190\n",
      "Epoch 2/5\n",
      "90/90 [==============================] - 12s 136ms/step - loss: 0.0849 - accuracy: 0.9808 - val_loss: 0.2364 - val_accuracy: 0.9246\n",
      "Epoch 3/5\n",
      "90/90 [==============================] - 12s 138ms/step - loss: 0.0256 - accuracy: 0.9972 - val_loss: 0.2243 - val_accuracy: 0.9302\n",
      "Epoch 4/5\n",
      "71/90 [======================>.......] - ETA: 2s - loss: 0.0186 - accuracy: 0.9991"
     ]
    },
    {
     "ename": "KeyboardInterrupt",
     "evalue": "",
     "output_type": "error",
     "traceback": [
      "\u001b[1;31m---------------------------------------------------------------------------\u001b[0m",
      "\u001b[1;31mKeyboardInterrupt\u001b[0m                         Traceback (most recent call last)",
      "\u001b[1;32mc:\\Users\\Asus\\Downloads\\REPOS\\NLP\\NLP_HW_04_Embeddings\\HW04.ipynb Cell 33\u001b[0m line \u001b[0;36m7\n\u001b[0;32m      <a href='vscode-notebook-cell:/c%3A/Users/Asus/Downloads/REPOS/NLP/NLP_HW_04_Embeddings/HW04.ipynb#X43sZmlsZQ%3D%3D?line=4'>5</a>\u001b[0m epochs \u001b[39m=\u001b[39m \u001b[39m5\u001b[39m\n\u001b[0;32m      <a href='vscode-notebook-cell:/c%3A/Users/Asus/Downloads/REPOS/NLP/NLP_HW_04_Embeddings/HW04.ipynb#X43sZmlsZQ%3D%3D?line=5'>6</a>\u001b[0m batch_size \u001b[39m=\u001b[39m \u001b[39m32\u001b[39m\n\u001b[1;32m----> <a href='vscode-notebook-cell:/c%3A/Users/Asus/Downloads/REPOS/NLP/NLP_HW_04_Embeddings/HW04.ipynb#X43sZmlsZQ%3D%3D?line=6'>7</a>\u001b[0m model, history \u001b[39m=\u001b[39m generate_trained_model(model_kind, embedding_dim, train_segments, train_labels, val_segments, val_labels, epochs, batch_size)\n\u001b[0;32m      <a href='vscode-notebook-cell:/c%3A/Users/Asus/Downloads/REPOS/NLP/NLP_HW_04_Embeddings/HW04.ipynb#X43sZmlsZQ%3D%3D?line=7'>8</a>\u001b[0m accuracy, precision, recall, f1, confusion_matrix \u001b[39m=\u001b[39m evaluate_model(model, test_sequences, test_labels, label_mapping, segment_size)\n\u001b[0;32m      <a href='vscode-notebook-cell:/c%3A/Users/Asus/Downloads/REPOS/NLP/NLP_HW_04_Embeddings/HW04.ipynb#X43sZmlsZQ%3D%3D?line=8'>9</a>\u001b[0m \u001b[39mprint\u001b[39m(\u001b[39mf\u001b[39m\u001b[39m\"\u001b[39m\u001b[39mTest accuracy for model 1 with embedding dimension \u001b[39m\u001b[39m{\u001b[39;00membedding_dim\u001b[39m}\u001b[39;00m\u001b[39m: \u001b[39m\u001b[39m{\u001b[39;00maccuracy\u001b[39m:\u001b[39;00m\u001b[39m.4f\u001b[39m\u001b[39m}\u001b[39;00m\u001b[39m\"\u001b[39m)\n",
      "\u001b[1;32mc:\\Users\\Asus\\Downloads\\REPOS\\NLP\\NLP_HW_04_Embeddings\\HW04.ipynb Cell 33\u001b[0m line \u001b[0;36m5\n\u001b[0;32m     <a href='vscode-notebook-cell:/c%3A/Users/Asus/Downloads/REPOS/NLP/NLP_HW_04_Embeddings/HW04.ipynb#X43sZmlsZQ%3D%3D?line=51'>52</a>\u001b[0m \u001b[39m# Compile and train the model\u001b[39;00m\n\u001b[0;32m     <a href='vscode-notebook-cell:/c%3A/Users/Asus/Downloads/REPOS/NLP/NLP_HW_04_Embeddings/HW04.ipynb#X43sZmlsZQ%3D%3D?line=52'>53</a>\u001b[0m model\u001b[39m.\u001b[39mcompile(optimizer\u001b[39m=\u001b[39mAdam(), loss\u001b[39m=\u001b[39m\u001b[39m'\u001b[39m\u001b[39msparse_categorical_crossentropy\u001b[39m\u001b[39m'\u001b[39m, metrics\u001b[39m=\u001b[39m[\u001b[39m'\u001b[39m\u001b[39maccuracy\u001b[39m\u001b[39m'\u001b[39m])\n\u001b[1;32m---> <a href='vscode-notebook-cell:/c%3A/Users/Asus/Downloads/REPOS/NLP/NLP_HW_04_Embeddings/HW04.ipynb#X43sZmlsZQ%3D%3D?line=53'>54</a>\u001b[0m history \u001b[39m=\u001b[39m model\u001b[39m.\u001b[39;49mfit(train_padded, train_labels, validation_data\u001b[39m=\u001b[39;49m(val_padded, val_labels), epochs\u001b[39m=\u001b[39;49mepochs, batch_size\u001b[39m=\u001b[39;49mbatch_size)\n\u001b[0;32m     <a href='vscode-notebook-cell:/c%3A/Users/Asus/Downloads/REPOS/NLP/NLP_HW_04_Embeddings/HW04.ipynb#X43sZmlsZQ%3D%3D?line=55'>56</a>\u001b[0m \u001b[39mreturn\u001b[39;00m model, history\n",
      "File \u001b[1;32mc:\\Users\\Asus\\anaconda3\\envs\\tf\\lib\\site-packages\\keras\\utils\\traceback_utils.py:64\u001b[0m, in \u001b[0;36mfilter_traceback.<locals>.error_handler\u001b[1;34m(*args, **kwargs)\u001b[0m\n\u001b[0;32m     62\u001b[0m filtered_tb \u001b[39m=\u001b[39m \u001b[39mNone\u001b[39;00m\n\u001b[0;32m     63\u001b[0m \u001b[39mtry\u001b[39;00m:\n\u001b[1;32m---> 64\u001b[0m   \u001b[39mreturn\u001b[39;00m fn(\u001b[39m*\u001b[39margs, \u001b[39m*\u001b[39m\u001b[39m*\u001b[39mkwargs)\n\u001b[0;32m     65\u001b[0m \u001b[39mexcept\u001b[39;00m \u001b[39mException\u001b[39;00m \u001b[39mas\u001b[39;00m e:  \u001b[39m# pylint: disable=broad-except\u001b[39;00m\n\u001b[0;32m     66\u001b[0m   filtered_tb \u001b[39m=\u001b[39m _process_traceback_frames(e\u001b[39m.\u001b[39m__traceback__)\n",
      "File \u001b[1;32mc:\\Users\\Asus\\anaconda3\\envs\\tf\\lib\\site-packages\\keras\\engine\\training.py:1409\u001b[0m, in \u001b[0;36mModel.fit\u001b[1;34m(self, x, y, batch_size, epochs, verbose, callbacks, validation_split, validation_data, shuffle, class_weight, sample_weight, initial_epoch, steps_per_epoch, validation_steps, validation_batch_size, validation_freq, max_queue_size, workers, use_multiprocessing)\u001b[0m\n\u001b[0;32m   1402\u001b[0m \u001b[39mwith\u001b[39;00m tf\u001b[39m.\u001b[39mprofiler\u001b[39m.\u001b[39mexperimental\u001b[39m.\u001b[39mTrace(\n\u001b[0;32m   1403\u001b[0m     \u001b[39m'\u001b[39m\u001b[39mtrain\u001b[39m\u001b[39m'\u001b[39m,\n\u001b[0;32m   1404\u001b[0m     epoch_num\u001b[39m=\u001b[39mepoch,\n\u001b[0;32m   1405\u001b[0m     step_num\u001b[39m=\u001b[39mstep,\n\u001b[0;32m   1406\u001b[0m     batch_size\u001b[39m=\u001b[39mbatch_size,\n\u001b[0;32m   1407\u001b[0m     _r\u001b[39m=\u001b[39m\u001b[39m1\u001b[39m):\n\u001b[0;32m   1408\u001b[0m   callbacks\u001b[39m.\u001b[39mon_train_batch_begin(step)\n\u001b[1;32m-> 1409\u001b[0m   tmp_logs \u001b[39m=\u001b[39m \u001b[39mself\u001b[39;49m\u001b[39m.\u001b[39;49mtrain_function(iterator)\n\u001b[0;32m   1410\u001b[0m   \u001b[39mif\u001b[39;00m data_handler\u001b[39m.\u001b[39mshould_sync:\n\u001b[0;32m   1411\u001b[0m     context\u001b[39m.\u001b[39masync_wait()\n",
      "File \u001b[1;32mc:\\Users\\Asus\\anaconda3\\envs\\tf\\lib\\site-packages\\tensorflow\\python\\util\\traceback_utils.py:150\u001b[0m, in \u001b[0;36mfilter_traceback.<locals>.error_handler\u001b[1;34m(*args, **kwargs)\u001b[0m\n\u001b[0;32m    148\u001b[0m filtered_tb \u001b[39m=\u001b[39m \u001b[39mNone\u001b[39;00m\n\u001b[0;32m    149\u001b[0m \u001b[39mtry\u001b[39;00m:\n\u001b[1;32m--> 150\u001b[0m   \u001b[39mreturn\u001b[39;00m fn(\u001b[39m*\u001b[39margs, \u001b[39m*\u001b[39m\u001b[39m*\u001b[39mkwargs)\n\u001b[0;32m    151\u001b[0m \u001b[39mexcept\u001b[39;00m \u001b[39mException\u001b[39;00m \u001b[39mas\u001b[39;00m e:\n\u001b[0;32m    152\u001b[0m   filtered_tb \u001b[39m=\u001b[39m _process_traceback_frames(e\u001b[39m.\u001b[39m__traceback__)\n",
      "File \u001b[1;32mc:\\Users\\Asus\\anaconda3\\envs\\tf\\lib\\site-packages\\tensorflow\\python\\eager\\def_function.py:915\u001b[0m, in \u001b[0;36mFunction.__call__\u001b[1;34m(self, *args, **kwds)\u001b[0m\n\u001b[0;32m    912\u001b[0m compiler \u001b[39m=\u001b[39m \u001b[39m\"\u001b[39m\u001b[39mxla\u001b[39m\u001b[39m\"\u001b[39m \u001b[39mif\u001b[39;00m \u001b[39mself\u001b[39m\u001b[39m.\u001b[39m_jit_compile \u001b[39melse\u001b[39;00m \u001b[39m\"\u001b[39m\u001b[39mnonXla\u001b[39m\u001b[39m\"\u001b[39m\n\u001b[0;32m    914\u001b[0m \u001b[39mwith\u001b[39;00m OptionalXlaContext(\u001b[39mself\u001b[39m\u001b[39m.\u001b[39m_jit_compile):\n\u001b[1;32m--> 915\u001b[0m   result \u001b[39m=\u001b[39m \u001b[39mself\u001b[39m\u001b[39m.\u001b[39m_call(\u001b[39m*\u001b[39margs, \u001b[39m*\u001b[39m\u001b[39m*\u001b[39mkwds)\n\u001b[0;32m    917\u001b[0m new_tracing_count \u001b[39m=\u001b[39m \u001b[39mself\u001b[39m\u001b[39m.\u001b[39mexperimental_get_tracing_count()\n\u001b[0;32m    918\u001b[0m without_tracing \u001b[39m=\u001b[39m (tracing_count \u001b[39m==\u001b[39m new_tracing_count)\n",
      "File \u001b[1;32mc:\\Users\\Asus\\anaconda3\\envs\\tf\\lib\\site-packages\\tensorflow\\python\\eager\\def_function.py:947\u001b[0m, in \u001b[0;36mFunction._call\u001b[1;34m(self, *args, **kwds)\u001b[0m\n\u001b[0;32m    944\u001b[0m   \u001b[39mself\u001b[39m\u001b[39m.\u001b[39m_lock\u001b[39m.\u001b[39mrelease()\n\u001b[0;32m    945\u001b[0m   \u001b[39m# In this case we have created variables on the first call, so we run the\u001b[39;00m\n\u001b[0;32m    946\u001b[0m   \u001b[39m# defunned version which is guaranteed to never create variables.\u001b[39;00m\n\u001b[1;32m--> 947\u001b[0m   \u001b[39mreturn\u001b[39;00m \u001b[39mself\u001b[39m\u001b[39m.\u001b[39m_stateless_fn(\u001b[39m*\u001b[39margs, \u001b[39m*\u001b[39m\u001b[39m*\u001b[39mkwds)  \u001b[39m# pylint: disable=not-callable\u001b[39;00m\n\u001b[0;32m    948\u001b[0m \u001b[39melif\u001b[39;00m \u001b[39mself\u001b[39m\u001b[39m.\u001b[39m_stateful_fn \u001b[39mis\u001b[39;00m \u001b[39mnot\u001b[39;00m \u001b[39mNone\u001b[39;00m:\n\u001b[0;32m    949\u001b[0m   \u001b[39m# Release the lock early so that multiple threads can perform the call\u001b[39;00m\n\u001b[0;32m    950\u001b[0m   \u001b[39m# in parallel.\u001b[39;00m\n\u001b[0;32m    951\u001b[0m   \u001b[39mself\u001b[39m\u001b[39m.\u001b[39m_lock\u001b[39m.\u001b[39mrelease()\n",
      "File \u001b[1;32mc:\\Users\\Asus\\anaconda3\\envs\\tf\\lib\\site-packages\\tensorflow\\python\\eager\\function.py:2453\u001b[0m, in \u001b[0;36mFunction.__call__\u001b[1;34m(self, *args, **kwargs)\u001b[0m\n\u001b[0;32m   2450\u001b[0m \u001b[39mwith\u001b[39;00m \u001b[39mself\u001b[39m\u001b[39m.\u001b[39m_lock:\n\u001b[0;32m   2451\u001b[0m   (graph_function,\n\u001b[0;32m   2452\u001b[0m    filtered_flat_args) \u001b[39m=\u001b[39m \u001b[39mself\u001b[39m\u001b[39m.\u001b[39m_maybe_define_function(args, kwargs)\n\u001b[1;32m-> 2453\u001b[0m \u001b[39mreturn\u001b[39;00m graph_function\u001b[39m.\u001b[39;49m_call_flat(\n\u001b[0;32m   2454\u001b[0m     filtered_flat_args, captured_inputs\u001b[39m=\u001b[39;49mgraph_function\u001b[39m.\u001b[39;49mcaptured_inputs)\n",
      "File \u001b[1;32mc:\\Users\\Asus\\anaconda3\\envs\\tf\\lib\\site-packages\\tensorflow\\python\\eager\\function.py:1860\u001b[0m, in \u001b[0;36mConcreteFunction._call_flat\u001b[1;34m(self, args, captured_inputs, cancellation_manager)\u001b[0m\n\u001b[0;32m   1856\u001b[0m possible_gradient_type \u001b[39m=\u001b[39m gradients_util\u001b[39m.\u001b[39mPossibleTapeGradientTypes(args)\n\u001b[0;32m   1857\u001b[0m \u001b[39mif\u001b[39;00m (possible_gradient_type \u001b[39m==\u001b[39m gradients_util\u001b[39m.\u001b[39mPOSSIBLE_GRADIENT_TYPES_NONE\n\u001b[0;32m   1858\u001b[0m     \u001b[39mand\u001b[39;00m executing_eagerly):\n\u001b[0;32m   1859\u001b[0m   \u001b[39m# No tape is watching; skip to running the function.\u001b[39;00m\n\u001b[1;32m-> 1860\u001b[0m   \u001b[39mreturn\u001b[39;00m \u001b[39mself\u001b[39m\u001b[39m.\u001b[39m_build_call_outputs(\u001b[39mself\u001b[39;49m\u001b[39m.\u001b[39;49m_inference_function\u001b[39m.\u001b[39;49mcall(\n\u001b[0;32m   1861\u001b[0m       ctx, args, cancellation_manager\u001b[39m=\u001b[39;49mcancellation_manager))\n\u001b[0;32m   1862\u001b[0m forward_backward \u001b[39m=\u001b[39m \u001b[39mself\u001b[39m\u001b[39m.\u001b[39m_select_forward_and_backward_functions(\n\u001b[0;32m   1863\u001b[0m     args,\n\u001b[0;32m   1864\u001b[0m     possible_gradient_type,\n\u001b[0;32m   1865\u001b[0m     executing_eagerly)\n\u001b[0;32m   1866\u001b[0m forward_function, args_with_tangents \u001b[39m=\u001b[39m forward_backward\u001b[39m.\u001b[39mforward()\n",
      "File \u001b[1;32mc:\\Users\\Asus\\anaconda3\\envs\\tf\\lib\\site-packages\\tensorflow\\python\\eager\\function.py:497\u001b[0m, in \u001b[0;36m_EagerDefinedFunction.call\u001b[1;34m(self, ctx, args, cancellation_manager)\u001b[0m\n\u001b[0;32m    495\u001b[0m \u001b[39mwith\u001b[39;00m _InterpolateFunctionError(\u001b[39mself\u001b[39m):\n\u001b[0;32m    496\u001b[0m   \u001b[39mif\u001b[39;00m cancellation_manager \u001b[39mis\u001b[39;00m \u001b[39mNone\u001b[39;00m:\n\u001b[1;32m--> 497\u001b[0m     outputs \u001b[39m=\u001b[39m execute\u001b[39m.\u001b[39;49mexecute(\n\u001b[0;32m    498\u001b[0m         \u001b[39mstr\u001b[39;49m(\u001b[39mself\u001b[39;49m\u001b[39m.\u001b[39;49msignature\u001b[39m.\u001b[39;49mname),\n\u001b[0;32m    499\u001b[0m         num_outputs\u001b[39m=\u001b[39;49m\u001b[39mself\u001b[39;49m\u001b[39m.\u001b[39;49m_num_outputs,\n\u001b[0;32m    500\u001b[0m         inputs\u001b[39m=\u001b[39;49margs,\n\u001b[0;32m    501\u001b[0m         attrs\u001b[39m=\u001b[39;49mattrs,\n\u001b[0;32m    502\u001b[0m         ctx\u001b[39m=\u001b[39;49mctx)\n\u001b[0;32m    503\u001b[0m   \u001b[39melse\u001b[39;00m:\n\u001b[0;32m    504\u001b[0m     outputs \u001b[39m=\u001b[39m execute\u001b[39m.\u001b[39mexecute_with_cancellation(\n\u001b[0;32m    505\u001b[0m         \u001b[39mstr\u001b[39m(\u001b[39mself\u001b[39m\u001b[39m.\u001b[39msignature\u001b[39m.\u001b[39mname),\n\u001b[0;32m    506\u001b[0m         num_outputs\u001b[39m=\u001b[39m\u001b[39mself\u001b[39m\u001b[39m.\u001b[39m_num_outputs,\n\u001b[1;32m   (...)\u001b[0m\n\u001b[0;32m    509\u001b[0m         ctx\u001b[39m=\u001b[39mctx,\n\u001b[0;32m    510\u001b[0m         cancellation_manager\u001b[39m=\u001b[39mcancellation_manager)\n",
      "File \u001b[1;32mc:\\Users\\Asus\\anaconda3\\envs\\tf\\lib\\site-packages\\tensorflow\\python\\eager\\execute.py:54\u001b[0m, in \u001b[0;36mquick_execute\u001b[1;34m(op_name, num_outputs, inputs, attrs, ctx, name)\u001b[0m\n\u001b[0;32m     52\u001b[0m \u001b[39mtry\u001b[39;00m:\n\u001b[0;32m     53\u001b[0m   ctx\u001b[39m.\u001b[39mensure_initialized()\n\u001b[1;32m---> 54\u001b[0m   tensors \u001b[39m=\u001b[39m pywrap_tfe\u001b[39m.\u001b[39;49mTFE_Py_Execute(ctx\u001b[39m.\u001b[39;49m_handle, device_name, op_name,\n\u001b[0;32m     55\u001b[0m                                       inputs, attrs, num_outputs)\n\u001b[0;32m     56\u001b[0m \u001b[39mexcept\u001b[39;00m core\u001b[39m.\u001b[39m_NotOkStatusException \u001b[39mas\u001b[39;00m e:\n\u001b[0;32m     57\u001b[0m   \u001b[39mif\u001b[39;00m name \u001b[39mis\u001b[39;00m \u001b[39mnot\u001b[39;00m \u001b[39mNone\u001b[39;00m:\n",
      "\u001b[1;31mKeyboardInterrupt\u001b[0m: "
     ]
    },
    {
     "data": {
      "image/png": "[encoded data removed]",
      "text/plain": [
       "<Figure size 1000x600 with 2 Axes>"
      ]
     },
     "metadata": {},
     "output_type": "display_data"
    }
   ],
   "source": [
    "for embedding_dim in dimensionalities:\n",
    "    for model_kind in ['2']:\n",
    "        \n",
    "        segment_size = len(train_segments[0])\n",
    "        epochs = 5\n",
    "        batch_size = 32\n",
    "        model, history = generate_trained_model(model_kind, embedding_dim, train_segments, train_labels, val_segments, val_labels, epochs, batch_size)\n",
    "        accuracy, precision, recall, f1, confusion_matrix = evaluate_model(model, test_sequences, test_labels, label_mapping, segment_size)\n",
    "        print(f\"Test accuracy for model 1 with embedding dimension {embedding_dim}: {accuracy:.4f}\")\n",
    "\n",
    "\n",
    "        # Create a directory to save the model\n",
    "        model_dir = f\"model_{model_kind}_{embedding_dim}_{group_code}\"\n",
    "        os.makedirs(model_dir, exist_ok=True)\n",
    "        model.save(os.path.join(model_dir, \"model.h5\"))\n",
    "\n",
    "        \n",
    "        # Plot and save the history\n",
    "        plot = plot_history(history, os.path.join(model_dir, \"history.png\"))\n",
    "\n",
    "        # Save history as text\n",
    "        with open(os.path.join(model_dir, \"history.txt\"), 'w') as f:\n",
    "            f.write(str(history.history))\n",
    "        \n",
    "        # Save confusion matrix as text\n",
    "        with open(os.path.join(model_dir, \"confusion_matrix.txt\"), 'w') as f:\n",
    "            f.write(str(confusion_matrix.numpy()))\n",
    "\n",
    "        # Save metrics the metrics as text\n",
    "        with open(os.path.join(model_dir, \"metrics.txt\"), 'w') as f:\n",
    "            f.write(f\"Accuracy: {accuracy:.4f}\\n\")\n",
    "            f.write(f\"Precision: {precision:.4f}\\n\")\n",
    "            f.write(f\"Recall: {recall:.4f}\\n\")\n",
    "            f.write(f\"F1: {f1:.4f}\\n\")\n",
    "        \n",
    "\n",
    "\n"
   ]
  }
 ],
 "metadata": {
  "kernelspec": {
   "display_name": "Python 3",
   "language": "python",
   "name": "python3"
  },
  "language_info": {
   "codemirror_mode": {
    "name": "ipython",
    "version": 3
   },
   "file_extension": ".py",
   "mimetype": "text/x-python",
   "name": "python",
   "nbconvert_exporter": "python",
   "pygments_lexer": "ipython3",
   "version": "3.9.16"
  }
 },
 "nbformat": 4,
 "nbformat_minor": 2
}
